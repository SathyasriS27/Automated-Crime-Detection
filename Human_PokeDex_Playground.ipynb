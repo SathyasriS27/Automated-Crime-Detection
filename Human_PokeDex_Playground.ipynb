{
 "cells": [
  {
   "cell_type": "markdown",
   "metadata": {
    "id": "RHu1mDcHAcPU"
   },
   "source": [
    "# **Human PokeDex - Playground Notebook**\n",
    "\n",
    "This notebook will be used for trying parts of the software to test their implementation."
   ]
  },
  {
   "cell_type": "markdown",
   "metadata": {
    "id": "_rgxQ9qbApnx"
   },
   "source": [
    "# **Data Augmentation**"
   ]
  },
  {
   "cell_type": "markdown",
   "metadata": {
    "id": "N3V9fH4sBNXr"
   },
   "source": [
    "## **Functions for augmentation**"
   ]
  },
  {
   "cell_type": "code",
   "execution_count": null,
   "metadata": {
    "colab": {
     "base_uri": "https://localhost:8080/"
    },
    "id": "h-MlaMMJGyvv",
    "outputId": "e745a5af-52c6-4173-a192-5eaa105bf214"
   },
   "outputs": [
    {
     "name": "stdout",
     "output_type": "stream",
     "text": [
      "Collecting Augmentor\n",
      "  Downloading https://files.pythonhosted.org/packages/cb/79/861f38d5830cff631e30e33b127076bfef8ac98171e51daa06df0118c75f/Augmentor-0.2.8-py2.py3-none-any.whl\n",
      "Requirement already satisfied: future>=0.16.0 in /usr/local/lib/python3.7/dist-packages (from Augmentor) (0.16.0)\n",
      "Requirement already satisfied: Pillow>=5.2.0 in /usr/local/lib/python3.7/dist-packages (from Augmentor) (7.1.2)\n",
      "Requirement already satisfied: tqdm>=4.9.0 in /usr/local/lib/python3.7/dist-packages (from Augmentor) (4.41.1)\n",
      "Requirement already satisfied: numpy>=1.11.0 in /usr/local/lib/python3.7/dist-packages (from Augmentor) (1.19.5)\n",
      "Installing collected packages: Augmentor\n",
      "Successfully installed Augmentor-0.2.8\n"
     ]
    }
   ],
   "source": [
    "!pip install Augmentor"
   ]
  },
  {
   "cell_type": "code",
   "execution_count": null,
   "metadata": {
    "colab": {
     "base_uri": "https://localhost:8080/"
    },
    "id": "U795lUjnHr2K",
    "outputId": "94fa8e4b-b785-462b-8a96-20a94646dc6c"
   },
   "outputs": [
    {
     "name": "stdout",
     "output_type": "stream",
     "text": [
      "Requirement already up-to-date: imutils in /usr/local/lib/python3.7/dist-packages (0.5.4)\n"
     ]
    }
   ],
   "source": [
    "!pip install --upgrade imutils"
   ]
  },
  {
   "cell_type": "code",
   "execution_count": null,
   "metadata": {
    "colab": {
     "base_uri": "https://localhost:8080/"
    },
    "id": "Khtxk9lCwvpE",
    "outputId": "637cfb51-5a84-4992-c5e0-04fe510a71b5"
   },
   "outputs": [
    {
     "name": "stdout",
     "output_type": "stream",
     "text": [
      "Collecting firebase-admin\n",
      "\u001b[?25l  Downloading https://files.pythonhosted.org/packages/84/4b/d4a8aa86379ad58bdd616e517fc3dfe8a6cffe1ae4f6a3db5a3e94cc979b/firebase_admin-4.5.3-py3-none-any.whl (111kB)\n",
      "\r",
      "\u001b[K     |███                             | 10kB 15.5MB/s eta 0:00:01\r",
      "\u001b[K     |█████▉                          | 20kB 13.6MB/s eta 0:00:01\r",
      "\u001b[K     |████████▉                       | 30kB 8.2MB/s eta 0:00:01\r",
      "\u001b[K     |███████████▊                    | 40kB 7.5MB/s eta 0:00:01\r",
      "\u001b[K     |██████████████▋                 | 51kB 4.3MB/s eta 0:00:01\r",
      "\u001b[K     |█████████████████▋              | 61kB 4.8MB/s eta 0:00:01\r",
      "\u001b[K     |████████████████████▌           | 71kB 5.3MB/s eta 0:00:01\r",
      "\u001b[K     |███████████████████████▍        | 81kB 5.5MB/s eta 0:00:01\r",
      "\u001b[K     |██████████████████████████▍     | 92kB 4.7MB/s eta 0:00:01\r",
      "\u001b[K     |█████████████████████████████▎  | 102kB 5.1MB/s eta 0:00:01\r",
      "\u001b[K     |████████████████████████████████| 112kB 5.1MB/s \n",
      "\u001b[?25hRequirement already satisfied, skipping upgrade: google-cloud-storage>=1.18.0 in /usr/local/lib/python3.7/dist-packages (from firebase-admin) (1.18.1)\n",
      "Requirement already satisfied, skipping upgrade: google-cloud-firestore>=1.4.0; platform_python_implementation != \"PyPy\" in /usr/local/lib/python3.7/dist-packages (from firebase-admin) (1.7.0)\n",
      "Requirement already satisfied, skipping upgrade: cachecontrol>=0.12.6 in /usr/local/lib/python3.7/dist-packages (from firebase-admin) (0.12.6)\n",
      "Requirement already satisfied, skipping upgrade: google-api-python-client>=1.7.8 in /usr/local/lib/python3.7/dist-packages (from firebase-admin) (1.12.8)\n",
      "Requirement already satisfied, skipping upgrade: google-api-core[grpc]<2.0.0dev,>=1.14.0; platform_python_implementation != \"PyPy\" in /usr/local/lib/python3.7/dist-packages (from firebase-admin) (1.26.2)\n",
      "Requirement already satisfied, skipping upgrade: google-auth>=1.2.0 in /usr/local/lib/python3.7/dist-packages (from google-cloud-storage>=1.18.0->firebase-admin) (1.28.0)\n",
      "Requirement already satisfied, skipping upgrade: google-resumable-media<0.5.0dev,>=0.3.1 in /usr/local/lib/python3.7/dist-packages (from google-cloud-storage>=1.18.0->firebase-admin) (0.4.1)\n",
      "Requirement already satisfied, skipping upgrade: google-cloud-core<2.0dev,>=1.0.0 in /usr/local/lib/python3.7/dist-packages (from google-cloud-storage>=1.18.0->firebase-admin) (1.0.3)\n",
      "Requirement already satisfied, skipping upgrade: pytz in /usr/local/lib/python3.7/dist-packages (from google-cloud-firestore>=1.4.0; platform_python_implementation != \"PyPy\"->firebase-admin) (2018.9)\n",
      "Requirement already satisfied, skipping upgrade: msgpack>=0.5.2 in /usr/local/lib/python3.7/dist-packages (from cachecontrol>=0.12.6->firebase-admin) (1.0.2)\n",
      "Requirement already satisfied, skipping upgrade: requests in /usr/local/lib/python3.7/dist-packages (from cachecontrol>=0.12.6->firebase-admin) (2.23.0)\n",
      "Requirement already satisfied, skipping upgrade: httplib2<1dev,>=0.15.0 in /usr/local/lib/python3.7/dist-packages (from google-api-python-client>=1.7.8->firebase-admin) (0.17.4)\n",
      "Requirement already satisfied, skipping upgrade: google-auth-httplib2>=0.0.3 in /usr/local/lib/python3.7/dist-packages (from google-api-python-client>=1.7.8->firebase-admin) (0.0.4)\n",
      "Requirement already satisfied, skipping upgrade: six<2dev,>=1.13.0 in /usr/local/lib/python3.7/dist-packages (from google-api-python-client>=1.7.8->firebase-admin) (1.15.0)\n",
      "Requirement already satisfied, skipping upgrade: uritemplate<4dev,>=3.0.0 in /usr/local/lib/python3.7/dist-packages (from google-api-python-client>=1.7.8->firebase-admin) (3.0.1)\n",
      "Requirement already satisfied, skipping upgrade: protobuf>=3.12.0 in /usr/local/lib/python3.7/dist-packages (from google-api-core[grpc]<2.0.0dev,>=1.14.0; platform_python_implementation != \"PyPy\"->firebase-admin) (3.12.4)\n",
      "Requirement already satisfied, skipping upgrade: packaging>=14.3 in /usr/local/lib/python3.7/dist-packages (from google-api-core[grpc]<2.0.0dev,>=1.14.0; platform_python_implementation != \"PyPy\"->firebase-admin) (20.9)\n",
      "Requirement already satisfied, skipping upgrade: setuptools>=40.3.0 in /usr/local/lib/python3.7/dist-packages (from google-api-core[grpc]<2.0.0dev,>=1.14.0; platform_python_implementation != \"PyPy\"->firebase-admin) (54.2.0)\n",
      "Requirement already satisfied, skipping upgrade: googleapis-common-protos<2.0dev,>=1.6.0 in /usr/local/lib/python3.7/dist-packages (from google-api-core[grpc]<2.0.0dev,>=1.14.0; platform_python_implementation != \"PyPy\"->firebase-admin) (1.53.0)\n",
      "Requirement already satisfied, skipping upgrade: grpcio<2.0dev,>=1.29.0; extra == \"grpc\" in /usr/local/lib/python3.7/dist-packages (from google-api-core[grpc]<2.0.0dev,>=1.14.0; platform_python_implementation != \"PyPy\"->firebase-admin) (1.32.0)\n",
      "Requirement already satisfied, skipping upgrade: pyasn1-modules>=0.2.1 in /usr/local/lib/python3.7/dist-packages (from google-auth>=1.2.0->google-cloud-storage>=1.18.0->firebase-admin) (0.2.8)\n",
      "Requirement already satisfied, skipping upgrade: cachetools<5.0,>=2.0.0 in /usr/local/lib/python3.7/dist-packages (from google-auth>=1.2.0->google-cloud-storage>=1.18.0->firebase-admin) (4.2.1)\n",
      "Requirement already satisfied, skipping upgrade: rsa<5,>=3.1.4; python_version >= \"3.6\" in /usr/local/lib/python3.7/dist-packages (from google-auth>=1.2.0->google-cloud-storage>=1.18.0->firebase-admin) (4.7.2)\n",
      "Requirement already satisfied, skipping upgrade: certifi>=2017.4.17 in /usr/local/lib/python3.7/dist-packages (from requests->cachecontrol>=0.12.6->firebase-admin) (2020.12.5)\n",
      "Requirement already satisfied, skipping upgrade: idna<3,>=2.5 in /usr/local/lib/python3.7/dist-packages (from requests->cachecontrol>=0.12.6->firebase-admin) (2.10)\n",
      "Requirement already satisfied, skipping upgrade: urllib3!=1.25.0,!=1.25.1,<1.26,>=1.21.1 in /usr/local/lib/python3.7/dist-packages (from requests->cachecontrol>=0.12.6->firebase-admin) (1.24.3)\n",
      "Requirement already satisfied, skipping upgrade: chardet<4,>=3.0.2 in /usr/local/lib/python3.7/dist-packages (from requests->cachecontrol>=0.12.6->firebase-admin) (3.0.4)\n",
      "Requirement already satisfied, skipping upgrade: pyparsing>=2.0.2 in /usr/local/lib/python3.7/dist-packages (from packaging>=14.3->google-api-core[grpc]<2.0.0dev,>=1.14.0; platform_python_implementation != \"PyPy\"->firebase-admin) (2.4.7)\n",
      "Requirement already satisfied, skipping upgrade: pyasn1<0.5.0,>=0.4.6 in /usr/local/lib/python3.7/dist-packages (from pyasn1-modules>=0.2.1->google-auth>=1.2.0->google-cloud-storage>=1.18.0->firebase-admin) (0.4.8)\n",
      "Installing collected packages: firebase-admin\n",
      "  Found existing installation: firebase-admin 4.4.0\n",
      "    Uninstalling firebase-admin-4.4.0:\n",
      "      Successfully uninstalled firebase-admin-4.4.0\n",
      "Successfully installed firebase-admin-4.5.3\n"
     ]
    }
   ],
   "source": [
    "!pip install --upgrade firebase-admin"
   ]
  },
  {
   "cell_type": "code",
   "execution_count": null,
   "metadata": {
    "id": "LJDEv1J3Bc1o"
   },
   "outputs": [],
   "source": [
    "import numpy as np\n",
    "from imutils import paths\n",
    "import Augmentor\n",
    "import cv2\n",
    "import os\n",
    "import firebase_admin\n",
    "from firebase_admin import firestore\n",
    "from firebase_admin import credentials\n",
    "\n",
    "# Function to retrieve person's name\n",
    "def firestoreName():\n",
    "  cred = credentials.Certificate(\"/content/drive/MyDrive/Open Lab/Private Keys/human-pokedex-firebase-adminsdk-37ou3-147a3cdcff.json\")\n",
    "  firebase_admin.initialize_app(cred, {\n",
    "  'projectId': 'human-pokedex',\n",
    "  })\n",
    "  db = firestore.client()\n",
    "  users_ref = db.collection(u'New Users')\n",
    "  docs = users_ref.stream()\n",
    "\n",
    "  userName = \"\"\n",
    "\n",
    "  for doc in docs:\n",
    "    dict1 = doc.to_dict()\n",
    "    userName = dict1['Username']\n",
    "  \n",
    "  return userName\n",
    "\n",
    "# Function to blur the image\n",
    "def blurImage(imagePath, userName, i):\n",
    "    old_image = cv2.imread(imagePath)\n",
    "    image = old_image.copy()\n",
    "    blurredImage = cv2.blur(image, (3, 3))\n",
    "    filename = \"blurred_\" + userName + \"_\" + str(i) + \".jpg\"\n",
    "    os.chdir(r'/content/drive/MyDrive/Open Lab/Datasets 1/' + userName)\n",
    "    cv2.imwrite(filename, blurredImage) \n",
    "\n",
    "# Function to sharpen the image\n",
    "def sharpenImage(imagePath, userName, i):\n",
    "    old_image = cv2.imread(imagePath)\n",
    "    image = old_image.copy()\n",
    "    kernel = np.array([[-1, -1, -1], [-1, 9, -1], [-1, -1, -1]])\n",
    "    sharpImage = cv2.filter2D(image, -1, kernel)\n",
    "    filename = \"sharpened_\" + userName + \"_\" + str(i) + \".jpg\"\n",
    "    os.chdir(r'/content/drive/MyDrive/Open Lab/Datasets 1/' + userName)\n",
    "    cv2.imwrite(filename, sharpImage)\n",
    "\n",
    "# Function to add Sepia effect \n",
    "def sepiaImage(imagePath, userName, i):\n",
    "    old_image = cv2.imread(imagePath)\n",
    "    image = old_image.copy()\n",
    "    kernel = np.array([[0.272, 0.534, 0.131], [0.349, 0.686, 0.168], [0.393, 0.769, 0.189]])\n",
    "    sepiaImage = cv2.filter2D(image, -1, kernel)\n",
    "    filename = \"sepia_\" + userName +  \"_\" + str(i) + \".jpg\"\n",
    "    os.chdir(r'/content/drive/MyDrive/Open Lab/Datasets 1/' + userName)\n",
    "    cv2.imwrite(filename, sepiaImage)\n",
    "\n",
    "# Function to add brightness\n",
    "def brightImage(imagePath, userName, i):\n",
    "    old_image = cv2.imread(imagePath)\n",
    "    image = old_image.copy()\n",
    "    brightImage = cv2.convertScaleAbs(image, 3)\n",
    "    filename = \"bright_\" + userName +  \"_\" + str(i) + \".jpg\"\n",
    "    os.chdir(r'/content/drive/MyDrive/Open Lab/Datasets 1/' + userName)\n",
    "    cv2.imwrite(filename, brightImage)\n",
    "\n",
    "# Tilt image to certain angles\n",
    "def tiltedImage(imagePath, userName):\n",
    "    p = Augmentor.Pipeline(imagePath)\n",
    "    p.rotate(1, 15, 15)\n",
    "    old_image = cv2.imread(imagePath)\n",
    "    # image = old_image.copy()\n",
    "    # tilted_images, label = p.sample(10)\n",
    "    # os.chdir(r'/content/drive/MyDrive/Open Lab/Datasets 1/' + userName)\n",
    "    # for i in range(len(tilted_images)):\n",
    "    #     filename = \"tilted_\" + userName + \"_\" + str(i) + \".jpg\"\n",
    "    #     cv2.imwrite(filename, tilted_images[i])\n",
    "    \n",
    "# Mirror image\n",
    "def mirrorImage(imagePath, userName):\n",
    "    p = Augmentor.Pipeline(imagePath)\n",
    "    p.flip_left_right(probability = 1)\n",
    "    old_image = cv2.imread(imagePath)\n",
    "    # image = old_image.copy()\n",
    "    # flipped_images, label = p.sample(10)\n",
    "    # os.chdir(r'/content/drive/MyDrive/Open Lab/Datasets 1/' + userName)\n",
    "    # for i in range(len(flipped_images)):\n",
    "    #     filename = \"flipped_\" + userName + \"_\" + str(i) + \".jpg\"\n",
    "    #     cv2.imwrite(filename, flipped_images[i])\n",
    "\n",
    "# Shearing image\n",
    "def shearImage(imagePath, userName):\n",
    "    p = Augmentor.Pipeline(imagePath)\n",
    "    p.shear(probability = 1, max_shear_left = 15, max_shear_right = 15)\n",
    "    old_image = cv2.imread(imagePath)\n",
    "    # image = old_image.copy()\n",
    "    # sheared_images, label = p.sample(10)\n",
    "    # os.chdir(r'/content/drive/MyDrive/Open Lab/Datasets 1/' + userName)\n",
    "    # for i in range(len(sheared_images)):\n",
    "    #     filename = \"sheared_\" + userName + \"_\" + str(i) + \".jpg\"\n",
    "    #     cv2.imwrite(filename, sheared_images[i])\n",
    "\n",
    "# Skewing image\n",
    "def skewedImage(imagePath, userName):\n",
    "    p = Augmentor.Pipeline(imagePath)\n",
    "    p.skew(probability = 1, magnitude = 0.7)\n",
    "    old_image = cv2.imread(imagePath)\n",
    "    # image = old_image.copy()\n",
    "    # skewed_images, label = p.sample(10)\n",
    "    # os.chdir(r'/content/drive/MyDrive/Open Lab/Datasets 1/' + userName)\n",
    "    # for i in range(len(skewed_images)):\n",
    "    #     filename = \"skewed_\" + userName + \"_\" + str(i) + \".jpg\"\n",
    "    #     cv2.imwrite(filename, skewed_images[i])\n",
    "\n",
    "# Black and White \n",
    "def bwImage(imagePath, userName):\n",
    "    p = Augmentor.Pipeline(imagePath)\n",
    "    p.black_and_white(probability = 1, threshold = 255)\n",
    "    old_image = cv2.imread(imagePath)\n",
    "    # image = old_image.copy()\n",
    "    # bwImages, label = p.process()\n",
    "    # os.chdir(r'/content/drive/MyDrive/Open Lab/Datasets 1/' + userName)\n",
    "    # for i in range(len(bwImages)):\n",
    "    #     filename = \"bw_\" + userName + \"_\" + str(i) + \".jpg\"\n",
    "    #     cv2.imwrite(filename, bwImages[0])\n",
    "  \n",
    "# Initialize pipeline\n",
    "def usePipeline(imagePath, destination, userName):\n",
    "    p = Augmentor.Pipeline(imagePath, destination)\n",
    "    p1 = Augmentor.Pipeline(imagePath, destination)\n",
    "    p2 = Augmentor.Pipeline(imagePath, destination)\n",
    "    p3 = Augmentor.Pipeline(imagePath, destination)\n",
    "    p4 = Augmentor.Pipeline(imagePath, destination)\n",
    "    \n",
    "    p.rotate(1, 15, 15)\n",
    "    p1.flip_left_right(probability = 1)\n",
    "    p2.shear(probability = 1, max_shear_left = 15, max_shear_right = 15)\n",
    "    p3.skew(probability = 1, magnitude = 0.7)\n",
    "    p4.black_and_white(probability = 1, threshold = 64)\n",
    "\n",
    "    p.sample(25)\n",
    "    p1.sample(25)\n",
    "    p2.sample(25)\n",
    "    p3.sample(25)\n",
    "    p4.sample(25)"
   ]
  },
  {
   "cell_type": "markdown",
   "metadata": {
    "id": "WEouG7ZI4wxe"
   },
   "source": [
    "# **Function to move output photos**"
   ]
  },
  {
   "cell_type": "code",
   "execution_count": null,
   "metadata": {
    "id": "D9E0xcw3G4M1"
   },
   "outputs": [],
   "source": [
    "import shutil\n",
    "\n",
    "def movePhotos(destination, name):\n",
    "  imagePaths = list(paths.list_images(r\"/content/drive/MyDrive/Open Lab/New Datasets 1\"))\n",
    "  print(imagePaths)\n",
    "  input(\"Press any key.\")\n",
    "  for imagePath in imagePaths:\n",
    "    shutil.copy(imagePath, destination)\n",
    "  \n",
    "  print(\"Moved all files.\\n\")\n",
    "  delPath = '/content/drive/MyDrive/Open Lab/New Datasets 1/' + name\n",
    "  shutil.rmtree(delPath)"
   ]
  },
  {
   "cell_type": "markdown",
   "metadata": {
    "id": "_njatv58BG9R"
   },
   "source": [
    "## **Driver Program for Data Augmentation**"
   ]
  },
  {
   "cell_type": "code",
   "execution_count": null,
   "metadata": {
    "colab": {
     "base_uri": "https://localhost:8080/"
    },
    "id": "neFgMn6vAbZf",
    "outputId": "9d19f9db-fc1d-4290-fb29-5f69cbb0d49f"
   },
   "outputs": [
    {
     "name": "stderr",
     "output_type": "stream",
     "text": [
      "\r",
      "Executing Pipeline:   0%|          | 0/25 [00:00<?, ? Samples/s]"
     ]
    },
    {
     "name": "stdout",
     "output_type": "stream",
     "text": [
      "Initialised with 19 image(s) found.\n",
      "Output directory set to /content/drive/MyDrive/Open Lab/Datasets 1/Vikas.Initialised with 19 image(s) found.\n",
      "Output directory set to /content/drive/MyDrive/Open Lab/Datasets 1/Vikas.Initialised with 19 image(s) found.\n",
      "Output directory set to /content/drive/MyDrive/Open Lab/Datasets 1/Vikas.Initialised with 19 image(s) found.\n",
      "Output directory set to /content/drive/MyDrive/Open Lab/Datasets 1/Vikas.Initialised with 19 image(s) found.\n",
      "Output directory set to /content/drive/MyDrive/Open Lab/Datasets 1/Vikas."
     ]
    },
    {
     "name": "stderr",
     "output_type": "stream",
     "text": [
      "Processing <PIL.Image.Image image mode=RGB size=958x1280 at 0x7F7FD8D2A190>: 100%|██████████| 25/25 [00:04<00:00,  5.11 Samples/s]\n",
      "Processing <PIL.Image.Image image mode=RGB size=958x1280 at 0x7F7FD8D1B590>: 100%|██████████| 25/25 [00:01<00:00, 17.94 Samples/s]\n",
      "Processing <PIL.Image.Image image mode=RGB size=864x1152 at 0x7F7FD8D280D0>: 100%|██████████| 25/25 [00:04<00:00,  5.62 Samples/s]\n",
      "Processing <PIL.Image.Image image mode=RGB size=864x1152 at 0x7F7FD3AE4F50>: 100%|██████████| 25/25 [00:04<00:00,  5.84 Samples/s]\n",
      "Processing <PIL.Image.Image image mode=1 size=958x1280 at 0x7F7FD8D3D550>: 100%|██████████| 25/25 [00:00<00:00, 26.07 Samples/s]"
     ]
    },
    {
     "name": "stdout",
     "output_type": "stream",
     "text": [
      "\n",
      "Done with all images.\n",
      "\n",
      "\n",
      "Deleted new datasets after moving.\n",
      "\n"
     ]
    },
    {
     "name": "stderr",
     "output_type": "stream",
     "text": [
      "\n"
     ]
    }
   ],
   "source": [
    "import os\n",
    "\n",
    "imagePaths = list(paths.list_images(r\"/content/drive/MyDrive/Open Lab/New Datasets 1\"))\n",
    "# imgPath = list(paths.list_images(r'/content/drive/MyDrive/Open Lab/Datasets/Vikas'))\n",
    "\n",
    "name = firestoreName()\n",
    "os.mkdir(r'/content/drive/MyDrive/Open Lab/Datasets 1/' + name)\n",
    "imgPath = \"/content/drive/MyDrive/Open Lab/New Datasets 1/\" + name\n",
    "count = 0\n",
    "\n",
    "for imagePath in imagePaths:\n",
    "\n",
    "    # Perform data augmentation\n",
    "    \n",
    "    blurImage(imagePath, name, count)\n",
    "    sharpenImage(imagePath, name, count)\n",
    "    sepiaImage(imagePath, name, count)\n",
    "    brightImage(imagePath, name, count)\n",
    "\n",
    "    count += 1\n",
    "    \n",
    "# shearImage(imgPath, name)\n",
    "# skewedImage(imgPath, name)\n",
    "# bwImage(imgPath, name)\n",
    "# tiltedImage(imgPath, name)\n",
    "# mirrorImage(imgPath, name)\n",
    "\n",
    "destination = '/content/drive/MyDrive/Open Lab/Datasets 1/' + name\n",
    "usePipeline(imgPath, destination, name)\n",
    "\n",
    "print(\"\\nDone with all images.\\n\")\n",
    "\n",
    "# movePhotos(destination, name)\n",
    "db = firestore.client()\n",
    "# db.collection(u'New Users').delete()\n",
    "print('\\nDeleted new datasets after moving.\\n')"
   ]
  },
  {
   "cell_type": "code",
   "execution_count": null,
   "metadata": {},
   "outputs": [],
   "source": [
    "import os\n",
    "\n",
    "imagePaths = list(paths.list_images(r\"/content/drive/MyDrive/Open Lab/New Datasets 1\"))\n",
    "\n",
    "name = firestoreName()\n",
    "os.mkdir(r'/content/drive/MyDrive/Open Lab/Datasets 1/' + name)\n",
    "imgPath = \"/content/drive/MyDrive/Open Lab/New Datasets 1/\" + name\n",
    "count = 0\n",
    "\n",
    "for imagePath in imagePaths:\n",
    "\n",
    "    # Perform data augmentation\n",
    "    \n",
    "    blurImage(imagePath, name, count)\n",
    "    sharpenImage(imagePath, name, count)\n",
    "    sepiaImage(imagePath, name, count)\n",
    "    brightImage(imagePath, name, count)\n",
    "\n",
    "    count += 1\n",
    "    \n",
    "\n",
    "destination = '/content/drive/MyDrive/Open Lab/Datasets 1/' + name\n",
    "usePipeline(imgPath, destination, name)\n",
    "\n",
    "print(\"\\nDone with all images.\\n\")\n",
    "\n",
    "db = firestore.client()\n",
    "print('\\nDeleted new datasets after moving.\\n')"
   ]
  }
 ],
 "metadata": {
  "colab": {
   "name": "Human PokeDex Playground.ipynb",
   "provenance": [],
   "toc_visible": true
  },
  "kernelspec": {
   "display_name": "Python 3",
   "language": "python",
   "name": "python3"
  },
  "language_info": {
   "codemirror_mode": {
    "name": "ipython",
    "version": 3
   },
   "file_extension": ".py",
   "mimetype": "text/x-python",
   "name": "python",
   "nbconvert_exporter": "python",
   "pygments_lexer": "ipython3",
   "version": "3.9.0"
  }
 },
 "nbformat": 4,
 "nbformat_minor": 1
}
