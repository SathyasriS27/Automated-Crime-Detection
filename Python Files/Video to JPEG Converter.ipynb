{
 "cells": [
  {
   "cell_type": "code",
   "execution_count": 2,
   "metadata": {},
   "outputs": [],
   "source": [
    "from imutils import paths\n",
    "import numpy as np\n",
    "import argparse\n",
    "import imutils\n",
    "import pickle\n",
    "import time\n",
    "import cv2\n",
    "import os"
   ]
  },
  {
   "cell_type": "code",
   "execution_count": 13,
   "metadata": {},
   "outputs": [],
   "source": [
    "# Older program (For Open Lab)\n",
    "\n",
    "dataPath = r\"C:\\Users\\Yash Umale\\Documents\\6th Sem\\Open Lab Docs\\Crime Detection\\Annotated Data\\Normal\"\n",
    "outData = r\"C:\\Users\\Yash Umale\\Documents\\6th Sem\\Open Lab Docs\\Crime Detection\\Annotated Data\\Photos\\Normal\"\n",
    "\n",
    "os.chdir(outData)\n",
    "k = 1\n",
    "for fileName in os.listdir(dataPath):\n",
    "    f = os.path.join(dataPath, fileName)\n",
    "    \n",
    "    cam = cv2.VideoCapture(f)\n",
    "    ret, frame = cam.read()\n",
    "    currentframe = 0\n",
    "    i = 0\n",
    "    # a variable to set how many frames you want to skip\n",
    "    frame_skip = 20          # Since the videos are in 30 FPS, and we want 10 frames per clip\n",
    "    \n",
    "    while cam.isOpened():\n",
    "        ret, frame = cam.read()\n",
    "        k += 1\n",
    "        if not ret:\n",
    "            break\n",
    "        if (i > frame_skip - 1):\n",
    "            cv2.imwrite('Normal_'+ str(k) +'.jpg', frame)\n",
    "            i = 0\n",
    "            continue\n",
    "        i += 1\n",
    "\n",
    "    cam.release()\n",
    "    cv2.destroyAllWindows()"
   ]
  },
  {
   "cell_type": "code",
   "execution_count": 3,
   "metadata": {},
   "outputs": [],
   "source": [
    "# New program (for paper)\n",
    "\n",
    "imagePaths = list(paths.list_images(r'C:\\Users\\Yash Umale\\Documents\\6th Sem\\Open Lab\\Python Files\\Crime Detection\\Datasets'))\n",
    "outPath = r\"C:\\Users\\Yash Umale\\Documents\\7th Sem\\Research Paper\\Datasets\\Annotated\"\n",
    "dataPath = r\"C:\\Users\\Yash Umale\\Documents\\7th Sem\\Research Paper\\Datasets\\Original_Normal\"\n",
    "\n",
    "for classPath in os.listdir(dataPath):\n",
    "    clipPaths = os.listdir(dataPath + \"\\\\\" + classPath)\n",
    "    os.mkdir((outPath + '\\\\' + classPath))\n",
    "    \n",
    "    k = 1\n",
    "    for clips in clipPaths:\n",
    "        # clipNo = clips.split(os.path.sep)[-1]\n",
    "        os.mkdir((outPath + '\\\\' + classPath + '\\\\' + clips))\n",
    "        os.chdir((outPath + '\\\\' + classPath + '\\\\' + clips))\n",
    "        # current = clipNo\n",
    "        # while (current == clipNo):\n",
    "        \n",
    "        f = dataPath + \"\\\\\" + classPath + \"\\\\\" + clips\n",
    "        cam = cv2.VideoCapture(f)\n",
    "        ret, frame = cam.read()\n",
    "        currentframe = 0\n",
    "        i = 0\n",
    "        \n",
    "        # a variable to set how many frames you want to skip\n",
    "        frame_skip = 5          # Since the videos are in 30 FPS, and we want 10 frames per clip\n",
    "\n",
    "        while cam.isOpened():\n",
    "            ret, frame = cam.read()\n",
    "            k += 1\n",
    "            if not ret:\n",
    "                break\n",
    "            if (i > frame_skip - 1):\n",
    "                cv2.imwrite(classPath + '_' + clips + '_' + str(k) +'.jpg', frame)\n",
    "                i = 0\n",
    "                continue\n",
    "            i += 1\n",
    "\n",
    "        cam.release()\n",
    "        cv2.destroyAllWindows()"
   ]
  },
  {
   "cell_type": "code",
   "execution_count": null,
   "metadata": {},
   "outputs": [],
   "source": []
  }
 ],
 "metadata": {
  "kernelspec": {
   "display_name": "Python 3",
   "language": "python",
   "name": "python3"
  },
  "language_info": {
   "codemirror_mode": {
    "name": "ipython",
    "version": 3
   },
   "file_extension": ".py",
   "mimetype": "text/x-python",
   "name": "python",
   "nbconvert_exporter": "python",
   "pygments_lexer": "ipython3",
   "version": "3.9.0"
  }
 },
 "nbformat": 4,
 "nbformat_minor": 4
}
